{
  "nbformat": 4,
  "nbformat_minor": 0,
  "metadata": {
    "colab": {
      "provenance": [],
      "gpuType": "T4",
      "authorship_tag": "ABX9TyP/5z2mpjgghO0BPuu69wH5",
      "include_colab_link": true
    },
    "kernelspec": {
      "name": "python3",
      "display_name": "Python 3"
    },
    "language_info": {
      "name": "python"
    },
    "accelerator": "GPU"
  },
  "cells": [
    {
      "cell_type": "markdown",
      "metadata": {
        "id": "view-in-github",
        "colab_type": "text"
      },
      "source": [
        "<a href=\"https://colab.research.google.com/github/Ifeanyi55/FaceAnalyzer/blob/main/FaceAnalyzer.ipynb\" target=\"_parent\"><img src=\"https://colab.research.google.com/assets/colab-badge.svg\" alt=\"Open In Colab\"/></a>"
      ]
    },
    {
      "cell_type": "markdown",
      "source": [
        "# **Install Packages**"
      ],
      "metadata": {
        "id": "UiB57ofRyAX5"
      }
    },
    {
      "cell_type": "code",
      "execution_count": null,
      "metadata": {
        "id": "_D2mnsZ5xuI2"
      },
      "outputs": [],
      "source": [
        "# install packages\n",
        "!pip install deepface pandas matplotlib gradio"
      ]
    },
    {
      "cell_type": "markdown",
      "source": [
        "# **Run FaceAnalyzer Gradio App**"
      ],
      "metadata": {
        "id": "CFfVtYddyHmy"
      }
    },
    {
      "cell_type": "code",
      "source": [
        "from deepface import DeepFace\n",
        "import pandas as pd\n",
        "import gradio as gr\n",
        "import matplotlib.pyplot as plt\n",
        "import tempfile\n",
        "import os\n",
        "\n",
        "def faceAnalyzer(image_path):\n",
        "    def analyze(image_path, attribute):\n",
        "        analysis = DeepFace.analyze(img_path=image_path, actions=['gender', 'race', 'emotion', 'age'])\n",
        "        df = pd.DataFrame(analysis[0])\n",
        "        plot = df[attribute].plot(kind='line', figsize=(9, 5), title=attribute).get_figure()\n",
        "        _, temp_filename = tempfile.mkstemp(suffix=\".png\")\n",
        "        plot.savefig(temp_filename, dpi=600)\n",
        "        plt.close(plot)\n",
        "        return temp_filename\n",
        "\n",
        "    attributes = ['gender', 'race', 'emotion']\n",
        "    images = [analyze(image_path, attribute) for attribute in attributes]\n",
        "\n",
        "    return [gr.Image(image) for attribute, image in zip(attributes, images)]\n",
        "\n",
        "\n",
        "def faceAnalyzer2(image_path, attribute):\n",
        "\n",
        "  analysis = DeepFace.analyze(img_path=image_path, actions=['age', 'gender', 'race', 'emotion'])\n",
        "    # convert the resulting dictionary to a DataFrame\n",
        "  df = pd.DataFrame(analysis[0])\n",
        "\n",
        "  if attribute == \"gender\":\n",
        "    gender = df['gender'].plot(kind = 'line', figsize = (9, 5), title = 'Gender').get_figure()\n",
        "    return gender\n",
        "\n",
        "  elif attribute == \"race\":\n",
        "    race = df['race'].plot(kind = 'line', figsize = (9, 5), title = 'Race').get_figure()\n",
        "    return race\n",
        "\n",
        "  elif attribute == \"emotion\":\n",
        "    emotion = df['emotion'].plot(kind = 'line', figsize = (9, 5), title = 'Emotion').get_figure()\n",
        "    return emotion\n",
        "\n",
        "\n",
        "app1 = gr.Interface(faceAnalyzer,\n",
        "                   inputs=gr.Image(label=\"Upload Photo\"),\n",
        "                   outputs=[gr.Image(label=\"Gender Analysis\"),\n",
        "                            gr.Image(label=\"Race Analysis\"),\n",
        "                            gr.Image(label=\"Emotion Analysis\")],\n",
        "                   theme=gr.themes.Soft())\n",
        "\n",
        "app2 = gr.Interface(faceAnalyzer2,\n",
        "                    inputs=[gr.Image(label=\"Upload Photo\"),gr.Radio(choices=[\"gender\",\"race\",\"emotion\"],\n",
        "                                                                    value=\"gender\",\n",
        "                                                                    label=\"Attributes\",\n",
        "                                                                    info=\"Select an Attribute to Analyze\")],\n",
        "                    outputs=gr.Plot(label=\"Analysis Output\"),\n",
        "                    theme=gr.themes.Soft())\n",
        "\n",
        "application = gr.TabbedInterface([app1,app2],[\"Full Analysis\",\"Select Analysis\"],theme=gr.themes.Soft())\n",
        "\n",
        "\n",
        "application.launch()\n",
        "\n"
      ],
      "metadata": {
        "colab": {
          "base_uri": "https://localhost:8080/",
          "height": 646
        },
        "id": "bdzk7j0yyF5j",
        "outputId": "04b6c800-4669-48e9-82d3-5d0d2195626a"
      },
      "execution_count": 3,
      "outputs": [
        {
          "output_type": "stream",
          "name": "stdout",
          "text": [
            "Setting queue=True in a Colab notebook requires sharing enabled. Setting `share=True` (you can turn this off by setting `share=False` in `launch()` explicitly).\n",
            "\n",
            "Colab notebook detected. To show errors in colab notebook, set debug=True in launch()\n",
            "Running on public URL: https://2f0dcb533b8e909ded.gradio.live\n",
            "\n",
            "This share link expires in 72 hours. For free permanent hosting and GPU upgrades, run `gradio deploy` from Terminal to deploy to Spaces (https://huggingface.co/spaces)\n"
          ]
        },
        {
          "output_type": "display_data",
          "data": {
            "text/plain": [
              "<IPython.core.display.HTML object>"
            ],
            "text/html": [
              "<div><iframe src=\"https://2f0dcb533b8e909ded.gradio.live\" width=\"100%\" height=\"500\" allow=\"autoplay; camera; microphone; clipboard-read; clipboard-write;\" frameborder=\"0\" allowfullscreen></iframe></div>"
            ]
          },
          "metadata": {}
        },
        {
          "output_type": "execute_result",
          "data": {
            "text/plain": []
          },
          "metadata": {},
          "execution_count": 3
        }
      ]
    }
  ]
}